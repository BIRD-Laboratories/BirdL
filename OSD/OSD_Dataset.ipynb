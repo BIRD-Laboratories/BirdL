{
  "nbformat": 4,
  "nbformat_minor": 0,
  "metadata": {
    "colab": {
      "provenance": []
    },
    "kernelspec": {
      "name": "python3",
      "display_name": "Python 3"
    },
    "language_info": {
      "name": "python"
    }
  },
  "cells": [
    {
      "cell_type": "markdown",
      "source": [
        "# Setup"
      ],
      "metadata": {
        "id": "XLAwaiItIjx-"
      }
    },
    {
      "cell_type": "code",
      "execution_count": null,
      "metadata": {
        "id": "mkfqDSs5GvwO"
      },
      "outputs": [],
      "source": [
        "!pip install datasets\n",
        "!pip install img2dataset\n",
        "!wget https://huggingface.co/datasets/huggingface-projects/sd-multiplayer-data/resolve/main/rooms_data.db"
      ]
    },
    {
      "cell_type": "markdown",
      "source": [
        "# Make Dataset!"
      ],
      "metadata": {
        "id": "1kB4y6qbIqV0"
      }
    },
    {
      "cell_type": "code",
      "source": [
        "%cd /content/\n",
        "import sqlite3\n",
        "import re\n",
        "import itertools\n",
        "\n",
        "f = open(\"path.txt\", \"w\")\n",
        "ff = open(\"prompt.txt\", \"w\")\n",
        "fff = open(\"time.txt\",\"w\")\n",
        "# Create a SQL connection to our SQLite database\n",
        "con = sqlite3.connect(\"/content/rooms_data.db\")\n",
        "\n",
        "cur = con.cursor()\n",
        "\n",
        "# The result of a \"cursor.execute\" can be iterated over by row\n",
        "for row in cur.execute('SELECT key FROM rooms_data;'):\n",
        "  s = \"https://d26smi9133w0oo.cloudfront.net/\" + str(row[0]) + \"\\n\"\n",
        "  f.write(s)\n",
        "\n",
        "for row in cur.execute('SELECT time FROM rooms_data;'):  \n",
        "  s = str(row[0])\n",
        "  s = \" |\" + s[5:16] + \"|\\n\"\n",
        "  fff.write(s)\n",
        "\n",
        "for row in cur.execute('SELECT prompt FROM rooms_data;'):  \n",
        "  s = str(row[0])\n",
        "  s = s.replace(\"jpg\", \"\")\n",
        "  s = s.replace(\"webp\", \"\")\n",
        "  words = s.split()\n",
        "  s = (\" \".join(words[1:])) + \"\\n\" \n",
        "  ff.write(s)\n",
        "\n",
        "f = open(\"path.txt\", \"r\")\n",
        "line = open(\"path.txt\", \"r\")\n",
        "ff = open(\"prompt.txt\", \"r\")\n",
        "fff = open(\"time.txt\",\"r\")\n",
        "lines = line.readlines()\n",
        "\n",
        "rfintext = open(\"realfinal.txt\", \"w\")\n",
        "rfintext.write(\"url,caption\\n\")\n",
        "\n",
        "for Line in lines:\n",
        "  path = f.readline()\n",
        "  path = (path.replace(\"\\n\", \"\"))\n",
        "  prompt = ff.readline()\n",
        "  prompt = (prompt.replace(\"\\n\", \"\"))\n",
        "  time = fff.readline()\n",
        "  time = (time.replace(\"\\n\", \"\"))\n",
        "  fin = path + ',\"' + str(prompt) + str(time) + '\"\\n'\n",
        "  rfintext.write(fin)\n",
        "\n",
        "# Be sure to close the connection\n",
        "con.close()"
      ],
      "metadata": {
        "id": "SGdHWfx8HW_i"
      },
      "execution_count": null,
      "outputs": []
    },
    {
      "cell_type": "code",
      "source": [
        "# Review\n",
        "%cd /content/\n",
        "!head -n 1 prompt.txt\n",
        "!head -n 3 realfinal.txt\n",
        "!head -n 1 path.txt\n",
        "!wc path.txt -l"
      ],
      "metadata": {
        "id": "B057EwEKKKYn"
      },
      "execution_count": null,
      "outputs": []
    },
    {
      "cell_type": "code",
      "source": [
        "%cd /content/\n",
        "!mkdir /content/imagefolder\n",
        "%cd /content/imagefolder"
      ],
      "metadata": {
        "id": "_bCwLsW5XR4x"
      },
      "execution_count": null,
      "outputs": []
    },
    {
      "cell_type": "code",
      "source": [
        "!img2dataset --url_list \"/content/realfinal.txt\" --input_format \"csv\" --url_col \"url\" --caption_col \"caption\" --thread_count=64 --image_size=256"
      ],
      "metadata": {
        "id": "Mb97l0uOUSeL"
      },
      "execution_count": null,
      "outputs": []
    },
    {
      "cell_type": "code",
      "source": [
        "import glob\n",
        "from datasets import *\n",
        "from datasets import load_dataset\n",
        "textdataset = sorted(glob.glob(\"/content/imagefolder/images/*****/*.txt\"))\n",
        "text = []\n",
        "for i in textdataset:\n",
        "  textfile = open(i, \"r\")\n",
        "  textcontent = textfile.readline()\n",
        "  textcontent = textcontent.replace('\"', \"\")\n",
        "  textcontent = textcontent.replace('\\n', \"\")\n",
        "  text.append(textcontent)\n",
        "ims = sorted(glob.glob('/content/imagefolder/images/*****/*.jpg'))\n",
        "d = {'image':ims, \"text\":text}\n",
        "dataset = Dataset.from_dict(d).cast_column(\"image\", Image()).cast_column(\"text\",Value(dtype='string'))\n",
        "print(dataset)"
      ],
      "metadata": {
        "id": "bUjFAPRNnyJT"
      },
      "execution_count": null,
      "outputs": []
    },
    {
      "cell_type": "markdown",
      "source": [
        "# Upload!"
      ],
      "metadata": {
        "id": "TcIBcZA3IvnW"
      }
    },
    {
      "cell_type": "code",
      "source": [
        "from huggingface_hub import notebook_login\n",
        "\n",
        "notebook_login()"
      ],
      "metadata": {
        "id": "AyypmaNrwRbL"
      },
      "execution_count": null,
      "outputs": []
    },
    {
      "cell_type": "code",
      "source": [
        "dataset.push_to_hub('-INSERTUSER-/OSD-Dataset')"
      ],
      "metadata": {
        "id": "E-nuBhjFq7GI"
      },
      "execution_count": null,
      "outputs": []
    }
  ]
}