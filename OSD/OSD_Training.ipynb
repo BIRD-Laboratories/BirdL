{
  "cells": [
    {
      "cell_type": "markdown",
      "source": [
        "# Setup"
      ],
      "metadata": {
        "id": "HBctskc6H66V"
      },
      "id": "HBctskc6H66V"
    },
    {
      "cell_type": "code",
      "execution_count": null,
      "id": "baba3fe8-f000-4719-a409-abf63c8d737c",
      "metadata": {
        "id": "baba3fe8-f000-4719-a409-abf63c8d737c"
      },
      "outputs": [],
      "source": [
        "!git clone https://github.com/huggingface/diffusers/"
      ]
    },
    {
      "cell_type": "code",
      "execution_count": null,
      "id": "dfabd08e-22ad-48fc-9453-a4e65fb8ecd9",
      "metadata": {
        "id": "dfabd08e-22ad-48fc-9453-a4e65fb8ecd9"
      },
      "outputs": [],
      "source": [
        "%cd diffusers/examples/text_to_image"
      ]
    },
    {
      "cell_type": "code",
      "execution_count": null,
      "id": "74100998-cbab-4013-a540-76353de1dc57",
      "metadata": {
        "id": "74100998-cbab-4013-a540-76353de1dc57"
      },
      "outputs": [],
      "source": [
        "!pip install -r requirements.txt\n",
        "!pip install diffusers"
      ]
    },
    {
      "cell_type": "code",
      "execution_count": null,
      "id": "e3839009-f1a7-4e9c-96ba-90363d8451a1",
      "metadata": {
        "id": "e3839009-f1a7-4e9c-96ba-90363d8451a1"
      },
      "outputs": [],
      "source": [
        "#Run in terminal if it doesn't work\n",
        "!accelerate config"
      ]
    },
    {
      "cell_type": "markdown",
      "source": [
        "# Train!"
      ],
      "metadata": {
        "id": "pcqCaeA7H28K"
      },
      "id": "pcqCaeA7H28K"
    },
    {
      "cell_type": "code",
      "execution_count": null,
      "id": "92409730-4ba5-4d72-8418-49419ac765bb",
      "metadata": {
        "id": "92409730-4ba5-4d72-8418-49419ac765bb"
      },
      "outputs": [],
      "source": [
        "!accelerate launch --mixed_precision=\"fp16\"  train_text_to_image.py \\\n",
        "  --pretrained_model_name_or_path=\"stabilityai/stable-diffusion-2-1-base\" \\\n",
        "  --dataset_name=\"BirdL/OSD-Dataset\"\\\n",
        "  --use_ema \\\n",
        "  --resolution=256 \\\n",
        "  --train_batch_size=64 \\\n",
        "  --gradient_accumulation_steps=2 \\\n",
        "  --gradient_checkpointing \\\n",
        "  --max_train_steps=1600 \\\n",
        "  --learning_rate=1e-05 \\\n",
        "  --max_grad_norm=1 \\\n",
        "  --lr_scheduler=\"constant\" --lr_warmup_steps=0 \\\n",
        "  --output_dir=\"OnlineStableDiffusion\" "
      ]
    },
    {
      "cell_type": "markdown",
      "source": [
        "# Upload to Hub (Optional)"
      ],
      "metadata": {
        "id": "y_MV3RYhIIXx"
      },
      "id": "y_MV3RYhIIXx"
    },
    {
      "cell_type": "code",
      "execution_count": null,
      "id": "0201fb63-baba-4f33-9b8a-4720692cc43b",
      "metadata": {
        "id": "0201fb63-baba-4f33-9b8a-4720692cc43b"
      },
      "outputs": [],
      "source": [
        "from huggingface_hub import HfApi\n",
        "api = HfApi()\n",
        "api.upload_folder(\n",
        "    folder_path=\"OnlineStableDiffusion\",\n",
        "    path_in_repo=\"\",\n",
        "    repo_id=\"--InsertUser--/OSD-Model\",\n",
        "    repo_type=\"model\",\n",
        ")"
      ]
    },
    {
      "cell_type": "markdown",
      "source": [
        "# Testing Model Output"
      ],
      "metadata": {
        "id": "O8mt9m22HyLK"
      },
      "id": "O8mt9m22HyLK"
    },
    {
      "cell_type": "code",
      "execution_count": null,
      "id": "594a8892-24eb-4ace-aa85-88cb10cc7528",
      "metadata": {
        "id": "594a8892-24eb-4ace-aa85-88cb10cc7528"
      },
      "outputs": [],
      "source": [
        "from diffusers import StableDiffusionPipeline\n",
        "\n",
        "model_path=\"OnlineStableDiffusion\"\n",
        "pipe = StableDiffusionPipeline.from_pretrained(model_path, torch_dtype=torch.float16)\n",
        "pipe.to(\"cuda\")\n",
        "\n",
        "image = pipe(prompt=\"\").images[0]\n",
        "image.save(\"image.png\")"
      ]
    }
  ],
  "metadata": {
    "kernelspec": {
      "display_name": "Python 3",
      "language": "python",
      "name": "python3"
    },
    "language_info": {
      "codemirror_mode": {
        "name": "ipython",
        "version": 3
      },
      "file_extension": ".py",
      "mimetype": "text/x-python",
      "name": "python",
      "nbconvert_exporter": "python",
      "pygments_lexer": "ipython3",
      "version": "3.8.10"
    },
    "colab": {
      "provenance": []
    }
  },
  "nbformat": 4,
  "nbformat_minor": 5
}